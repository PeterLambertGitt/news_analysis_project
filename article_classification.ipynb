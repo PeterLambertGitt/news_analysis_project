{
 "cells": [
  {
   "cell_type": "markdown",
   "id": "bc7c667c",
   "metadata": {},
   "source": [
    "# Classification using news-data"
   ]
  },
  {
   "cell_type": "markdown",
   "id": "6671f0f6",
   "metadata": {},
   "source": [
    "The plan in this notebook is to load the dataset from https://huggingface.co/datasets/okite97/news-data which is able to classify articles into politics/business/health/sports.\n",
    "\n",
    "We are then loading the model from https://huggingface.co/elozano/bert-base-cased-news-category/tree/main and testing it on this dataset. The model is trained to score on politics/world/technology/science/automobile/entertainment/sports.\n",
    "\n",
    "This will be scoring the model based specifically on it's ability to identify politics articles, though it will be interesting to also check the aggregate results."
   ]
  },
  {
   "cell_type": "markdown",
   "id": "06b841d2",
   "metadata": {},
   "source": [
    "## Installing Datasets and loading news-data"
   ]
  },
  {
   "cell_type": "code",
   "execution_count": null,
   "id": "942f5c88",
   "metadata": {},
   "outputs": [],
   "source": [
    "# To get this to work, you need to uninstall transformers, huggingface-hub, and "
   ]
  },
  {
   "cell_type": "code",
   "execution_count": 1,
   "id": "5cea4e72",
   "metadata": {
    "collapsed": true
   },
   "outputs": [
    {
     "name": "stdout",
     "output_type": "stream",
     "text": [
      "Requirement already satisfied: datasets in /home/peter/.pyenv/versions/3.10.6/envs/lewagon_current/lib/python3.10/site-packages (2.19.0)\n",
      "Requirement already satisfied: filelock in /home/peter/.pyenv/versions/3.10.6/envs/lewagon_current/lib/python3.10/site-packages (from datasets) (3.12.4)\n",
      "Requirement already satisfied: numpy>=1.17 in /home/peter/.pyenv/versions/3.10.6/envs/lewagon_current/lib/python3.10/site-packages (from datasets) (1.26.1)\n",
      "Requirement already satisfied: pyarrow>=12.0.0 in /home/peter/.pyenv/versions/3.10.6/envs/lewagon_current/lib/python3.10/site-packages (from datasets) (16.0.0)\n",
      "Requirement already satisfied: pyarrow-hotfix in /home/peter/.pyenv/versions/3.10.6/envs/lewagon_current/lib/python3.10/site-packages (from datasets) (0.6)\n",
      "Requirement already satisfied: dill<0.3.9,>=0.3.0 in /home/peter/.pyenv/versions/3.10.6/envs/lewagon_current/lib/python3.10/site-packages (from datasets) (0.3.8)\n",
      "Requirement already satisfied: pandas in /home/peter/.pyenv/versions/3.10.6/envs/lewagon_current/lib/python3.10/site-packages (from datasets) (1.4.4)\n",
      "Requirement already satisfied: requests>=2.19.0 in /home/peter/.pyenv/versions/3.10.6/envs/lewagon_current/lib/python3.10/site-packages (from datasets) (2.28.1)\n",
      "Requirement already satisfied: tqdm>=4.62.1 in /home/peter/.pyenv/versions/3.10.6/envs/lewagon_current/lib/python3.10/site-packages (from datasets) (4.64.1)\n",
      "Requirement already satisfied: xxhash in /home/peter/.pyenv/versions/3.10.6/envs/lewagon_current/lib/python3.10/site-packages (from datasets) (3.4.1)\n",
      "Requirement already satisfied: multiprocess in /home/peter/.pyenv/versions/3.10.6/envs/lewagon_current/lib/python3.10/site-packages (from datasets) (0.70.16)\n",
      "Requirement already satisfied: fsspec<=2024.3.1,>=2023.1.0 in /home/peter/.pyenv/versions/3.10.6/envs/lewagon_current/lib/python3.10/site-packages (from fsspec[http]<=2024.3.1,>=2023.1.0->datasets) (2024.3.1)\n",
      "Requirement already satisfied: aiohttp in /home/peter/.pyenv/versions/3.10.6/envs/lewagon_current/lib/python3.10/site-packages (from datasets) (3.8.6)\n",
      "Requirement already satisfied: huggingface-hub>=0.21.2 in /home/peter/.pyenv/versions/3.10.6/envs/lewagon_current/lib/python3.10/site-packages (from datasets) (0.23.3)\n",
      "Requirement already satisfied: packaging in /home/peter/.pyenv/versions/3.10.6/envs/lewagon_current/lib/python3.10/site-packages (from datasets) (21.3)\n",
      "Requirement already satisfied: pyyaml>=5.1 in /home/peter/.pyenv/versions/3.10.6/envs/lewagon_current/lib/python3.10/site-packages (from datasets) (6.0.1)\n",
      "Requirement already satisfied: attrs>=17.3.0 in /home/peter/.pyenv/versions/3.10.6/envs/lewagon_current/lib/python3.10/site-packages (from aiohttp->datasets) (22.1.0)\n",
      "Requirement already satisfied: charset-normalizer<4.0,>=2.0 in /home/peter/.pyenv/versions/3.10.6/envs/lewagon_current/lib/python3.10/site-packages (from aiohttp->datasets) (2.1.1)\n",
      "Requirement already satisfied: multidict<7.0,>=4.5 in /home/peter/.pyenv/versions/3.10.6/envs/lewagon_current/lib/python3.10/site-packages (from aiohttp->datasets) (6.0.4)\n",
      "Requirement already satisfied: async-timeout<5.0,>=4.0.0a3 in /home/peter/.pyenv/versions/3.10.6/envs/lewagon_current/lib/python3.10/site-packages (from aiohttp->datasets) (4.0.3)\n",
      "Requirement already satisfied: yarl<2.0,>=1.0 in /home/peter/.pyenv/versions/3.10.6/envs/lewagon_current/lib/python3.10/site-packages (from aiohttp->datasets) (1.9.2)\n",
      "Requirement already satisfied: frozenlist>=1.1.1 in /home/peter/.pyenv/versions/3.10.6/envs/lewagon_current/lib/python3.10/site-packages (from aiohttp->datasets) (1.4.0)\n",
      "Requirement already satisfied: aiosignal>=1.1.2 in /home/peter/.pyenv/versions/3.10.6/envs/lewagon_current/lib/python3.10/site-packages (from aiohttp->datasets) (1.3.1)\n",
      "Requirement already satisfied: typing-extensions>=3.7.4.3 in /home/peter/.pyenv/versions/3.10.6/envs/lewagon_current/lib/python3.10/site-packages (from huggingface-hub>=0.21.2->datasets) (4.4.0)\n",
      "Requirement already satisfied: pyparsing!=3.0.5,>=2.0.2 in /home/peter/.pyenv/versions/3.10.6/envs/lewagon_current/lib/python3.10/site-packages (from packaging->datasets) (3.0.9)\n",
      "Requirement already satisfied: idna<4,>=2.5 in /home/peter/.pyenv/versions/3.10.6/envs/lewagon_current/lib/python3.10/site-packages (from requests>=2.19.0->datasets) (3.4)\n",
      "Requirement already satisfied: urllib3<1.27,>=1.21.1 in /home/peter/.pyenv/versions/3.10.6/envs/lewagon_current/lib/python3.10/site-packages (from requests>=2.19.0->datasets) (1.26.12)\n",
      "Requirement already satisfied: certifi>=2017.4.17 in /home/peter/.pyenv/versions/3.10.6/envs/lewagon_current/lib/python3.10/site-packages (from requests>=2.19.0->datasets) (2022.9.24)\n",
      "Requirement already satisfied: python-dateutil>=2.8.1 in /home/peter/.pyenv/versions/3.10.6/envs/lewagon_current/lib/python3.10/site-packages (from pandas->datasets) (2.8.2)\n",
      "Requirement already satisfied: pytz>=2020.1 in /home/peter/.pyenv/versions/3.10.6/envs/lewagon_current/lib/python3.10/site-packages (from pandas->datasets) (2022.1)\n",
      "Requirement already satisfied: six>=1.5 in /home/peter/.pyenv/versions/3.10.6/envs/lewagon_current/lib/python3.10/site-packages (from python-dateutil>=2.8.1->pandas->datasets) (1.16.0)\n",
      "\n",
      "\u001b[1m[\u001b[0m\u001b[34;49mnotice\u001b[0m\u001b[1;39;49m]\u001b[0m\u001b[39;49m A new release of pip is available: \u001b[0m\u001b[31;49m23.3.1\u001b[0m\u001b[39;49m -> \u001b[0m\u001b[32;49m24.0\u001b[0m\n",
      "\u001b[1m[\u001b[0m\u001b[34;49mnotice\u001b[0m\u001b[1;39;49m]\u001b[0m\u001b[39;49m To update, run: \u001b[0m\u001b[32;49mpython3.10 -m pip install --upgrade pip\u001b[0m\n"
     ]
    }
   ],
   "source": [
    "!pip install datasets"
   ]
  },
  {
   "cell_type": "code",
   "execution_count": 2,
   "id": "f7669435",
   "metadata": {},
   "outputs": [],
   "source": [
    "from datasets import load_dataset\n",
    "from datasets import DatasetInfo"
   ]
  },
  {
   "cell_type": "code",
   "execution_count": 22,
   "id": "329067f3",
   "metadata": {},
   "outputs": [],
   "source": [
    "dataset = load_dataset(\"okite97/news-data\", split='train')"
   ]
  },
  {
   "cell_type": "code",
   "execution_count": 24,
   "id": "770ee2b5",
   "metadata": {
    "scrolled": true
   },
   "outputs": [
    {
     "data": {
      "text/plain": [
       "Dataset({\n",
       "    features: ['Title', 'Excerpt', 'Category'],\n",
       "    num_rows: 4686\n",
       "})"
      ]
     },
     "execution_count": 24,
     "metadata": {},
     "output_type": "execute_result"
    }
   ],
   "source": [
    "dataset"
   ]
  },
  {
   "cell_type": "code",
   "execution_count": 25,
   "id": "c0fb85a3",
   "metadata": {
    "scrolled": false
   },
   "outputs": [
    {
     "data": {
      "text/plain": [
       "{'Title': 'Uefa Opens Proceedings against Barcelona, Juventus and Real Madrid Over European Super League Plan',\n",
       " 'Excerpt': 'Uefa has opened disciplinary proceedings against Barcelona, Juventus and Real Madrid over their involvement in the proposed European Super League.',\n",
       " 'Category': 'sports'}"
      ]
     },
     "execution_count": 25,
     "metadata": {},
     "output_type": "execute_result"
    }
   ],
   "source": [
    "dataset[0]"
   ]
  },
  {
   "cell_type": "code",
   "execution_count": 26,
   "id": "31bc0564",
   "metadata": {},
   "outputs": [],
   "source": [
    "exists = []\n",
    "count = []\n",
    "for category in dataset['Category']:\n",
    "    if category in exists:\n",
    "        break\n",
    "    else: \n",
    "        count.append([category, dataset['Category'].count(category)])\n",
    "        exists.append(category)    "
   ]
  },
  {
   "cell_type": "code",
   "execution_count": 27,
   "id": "ffb70087",
   "metadata": {
    "scrolled": true
   },
   "outputs": [
    {
     "data": {
      "text/plain": [
       "[['sports', 1124], ['business', 1268], ['politics', 1073], ['health', 550]]"
      ]
     },
     "execution_count": 27,
     "metadata": {},
     "output_type": "execute_result"
    }
   ],
   "source": [
    "count"
   ]
  },
  {
   "cell_type": "markdown",
   "id": "a76f0488",
   "metadata": {
    "heading_collapsed": true
   },
   "source": [
    "# Importing the  bert-base-cased-news-category model"
   ]
  },
  {
   "cell_type": "code",
   "execution_count": 11,
   "id": "d4a0f036",
   "metadata": {
    "hidden": true,
    "scrolled": true
   },
   "outputs": [],
   "source": [
    "from tokenizers import Tokenizer\n",
    "from transformers import pipeline"
   ]
  },
  {
   "cell_type": "code",
   "execution_count": 14,
   "id": "9f68e9ad",
   "metadata": {
    "hidden": true
   },
   "outputs": [
    {
     "data": {
      "application/vnd.jupyter.widget-view+json": {
       "model_id": "532f5fcd05094c3f9542495a93ffe22b",
       "version_major": 2,
       "version_minor": 0
      },
      "text/plain": [
       "config.json:   0%|          | 0.00/1.05k [00:00<?, ?B/s]"
      ]
     },
     "metadata": {},
     "output_type": "display_data"
    },
    {
     "data": {
      "application/vnd.jupyter.widget-view+json": {
       "model_id": "c0d126ace1da4797a74a39059eea137b",
       "version_major": 2,
       "version_minor": 0
      },
      "text/plain": [
       "pytorch_model.bin:   0%|          | 0.00/438M [00:00<?, ?B/s]"
      ]
     },
     "metadata": {},
     "output_type": "display_data"
    },
    {
     "name": "stderr",
     "output_type": "stream",
     "text": [
      "/home/peter/.pyenv/versions/3.10.6/envs/lewagon_current/lib/python3.10/site-packages/torch/_utils.py:831: UserWarning: TypedStorage is deprecated. It will be removed in the future and UntypedStorage will be the only storage class. This should only matter to you if you are using storages directly.  To access UntypedStorage directly, use tensor.untyped_storage() instead of tensor.storage()\n",
      "  return self.fget.__get__(instance, owner)()\n"
     ]
    },
    {
     "data": {
      "application/vnd.jupyter.widget-view+json": {
       "model_id": "5579ac158f6d43889adadd0565ce4b27",
       "version_major": 2,
       "version_minor": 0
      },
      "text/plain": [
       "tokenizer_config.json:   0%|          | 0.00/321 [00:00<?, ?B/s]"
      ]
     },
     "metadata": {},
     "output_type": "display_data"
    },
    {
     "data": {
      "application/vnd.jupyter.widget-view+json": {
       "model_id": "834f01246f7a4ee095c3eaf4216a5fef",
       "version_major": 2,
       "version_minor": 0
      },
      "text/plain": [
       "vocab.txt:   0%|          | 0.00/232k [00:00<?, ?B/s]"
      ]
     },
     "metadata": {},
     "output_type": "display_data"
    },
    {
     "data": {
      "application/vnd.jupyter.widget-view+json": {
       "model_id": "ad82c23de14f48da8dc3f1afc0640750",
       "version_major": 2,
       "version_minor": 0
      },
      "text/plain": [
       "tokenizer.json:   0%|          | 0.00/712k [00:00<?, ?B/s]"
      ]
     },
     "metadata": {},
     "output_type": "display_data"
    },
    {
     "data": {
      "application/vnd.jupyter.widget-view+json": {
       "model_id": "ae6f1d07b3a141ba9f47ffb4de2cb6d8",
       "version_major": 2,
       "version_minor": 0
      },
      "text/plain": [
       "special_tokens_map.json:   0%|          | 0.00/112 [00:00<?, ?B/s]"
      ]
     },
     "metadata": {},
     "output_type": "display_data"
    }
   ],
   "source": [
    "# installing a text-classification pipeline with our custom model\n",
    "\n",
    "pipe = pipeline(\"text-classification\", model=\"elozano/bert-base-cased-news-category\")"
   ]
  },
  {
   "cell_type": "code",
   "execution_count": 17,
   "id": "a58e6850",
   "metadata": {
    "hidden": true
   },
   "outputs": [
    {
     "data": {
      "text/plain": [
       "[{'label': 'World', 'score': 0.62265944480896}]"
      ]
     },
     "execution_count": 17,
     "metadata": {},
     "output_type": "execute_result"
    }
   ],
   "source": [
    "# testing the pipline on a specific phrase\n",
    "\n",
    "pipe('Liberals are great!')"
   ]
  },
  {
   "cell_type": "code",
   "execution_count": 18,
   "id": "a9aae6b2",
   "metadata": {
    "hidden": true
   },
   "outputs": [],
   "source": [
    "from transformers.pipelines.pt_utils import KeyDataset\n",
    "from tqdm.auto import tqdm"
   ]
  },
  {
   "cell_type": "code",
   "execution_count": 30,
   "id": "fbf16b67",
   "metadata": {
    "hidden": true
   },
   "outputs": [
    {
     "data": {
      "text/plain": [
       "<transformers.pipelines.pt_utils.KeyDataset at 0x7ff56975d660>"
      ]
     },
     "execution_count": 30,
     "metadata": {},
     "output_type": "execute_result"
    }
   ],
   "source": [
    "# The KeyDataset object extracts the values from a specific key (here it's 'Exerpt') and leaves the result as a Dataset object\n",
    "\n",
    "KeyDataset(dataset, \"Excerpt\")"
   ]
  },
  {
   "cell_type": "code",
   "execution_count": 36,
   "id": "4e97d23f",
   "metadata": {
    "hidden": true
   },
   "outputs": [],
   "source": [
    "import pandas as pd"
   ]
  },
  {
   "cell_type": "code",
   "execution_count": 38,
   "id": "febb4c1a",
   "metadata": {
    "hidden": true
   },
   "outputs": [],
   "source": [
    "# creating a dataframe for scoring\n",
    "\n",
    "df = dataset.to_pandas()"
   ]
  },
  {
   "cell_type": "code",
   "execution_count": 45,
   "id": "1e0111b6",
   "metadata": {
    "hidden": true
   },
   "outputs": [],
   "source": [
    "df['model_pred'] = 0\n",
    "df['model_conf'] = 0"
   ]
  },
  {
   "cell_type": "code",
   "execution_count": 48,
   "id": "db0c29d7",
   "metadata": {
    "hidden": true
   },
   "outputs": [
    {
     "data": {
      "text/html": [
       "<div>\n",
       "<style scoped>\n",
       "    .dataframe tbody tr th:only-of-type {\n",
       "        vertical-align: middle;\n",
       "    }\n",
       "\n",
       "    .dataframe tbody tr th {\n",
       "        vertical-align: top;\n",
       "    }\n",
       "\n",
       "    .dataframe thead th {\n",
       "        text-align: right;\n",
       "    }\n",
       "</style>\n",
       "<table border=\"1\" class=\"dataframe\">\n",
       "  <thead>\n",
       "    <tr style=\"text-align: right;\">\n",
       "      <th></th>\n",
       "      <th>Title</th>\n",
       "      <th>Excerpt</th>\n",
       "      <th>Category</th>\n",
       "      <th>model_pred</th>\n",
       "      <th>model_conf</th>\n",
       "    </tr>\n",
       "  </thead>\n",
       "  <tbody>\n",
       "    <tr>\n",
       "      <th>0</th>\n",
       "      <td>Uefa Opens Proceedings against Barcelona, Juve...</td>\n",
       "      <td>Uefa has opened disciplinary proceedings again...</td>\n",
       "      <td>sports</td>\n",
       "      <td>0</td>\n",
       "      <td>0</td>\n",
       "    </tr>\n",
       "    <tr>\n",
       "      <th>1</th>\n",
       "      <td>Amazon Blames Inflation as It Increases Cost o...</td>\n",
       "      <td>The increases are steeper than the 17 percent ...</td>\n",
       "      <td>business</td>\n",
       "      <td>0</td>\n",
       "      <td>0</td>\n",
       "    </tr>\n",
       "    <tr>\n",
       "      <th>2</th>\n",
       "      <td>Nigeria’s Parliament Passes Amended Electoral ...</td>\n",
       "      <td>Nigeria's Senate on Tuesday passed the harmoni...</td>\n",
       "      <td>politics</td>\n",
       "      <td>0</td>\n",
       "      <td>0</td>\n",
       "    </tr>\n",
       "    <tr>\n",
       "      <th>3</th>\n",
       "      <td>Nigeria: Lagos Governor Tests Positive for Cov...</td>\n",
       "      <td>The Lagos State Governor, Mr. Babajide Sanwo-O...</td>\n",
       "      <td>health</td>\n",
       "      <td>0</td>\n",
       "      <td>0</td>\n",
       "    </tr>\n",
       "    <tr>\n",
       "      <th>4</th>\n",
       "      <td>South Africa Calls For Calm as Electoral Refor...</td>\n",
       "      <td>South Africa has raised concerns about the det...</td>\n",
       "      <td>politics</td>\n",
       "      <td>0</td>\n",
       "      <td>0</td>\n",
       "    </tr>\n",
       "    <tr>\n",
       "      <th>...</th>\n",
       "      <td>...</td>\n",
       "      <td>...</td>\n",
       "      <td>...</td>\n",
       "      <td>...</td>\n",
       "      <td>...</td>\n",
       "    </tr>\n",
       "    <tr>\n",
       "      <th>4681</th>\n",
       "      <td>Uganda Drops Charges Against Nigerian Singers ...</td>\n",
       "      <td>Nigerian singers Omah Lay and Tems are set to ...</td>\n",
       "      <td>entertainment</td>\n",
       "      <td>0</td>\n",
       "      <td>0</td>\n",
       "    </tr>\n",
       "    <tr>\n",
       "      <th>4682</th>\n",
       "      <td>NNPC Cuts Directors’ Fees by 60.2%</td>\n",
       "      <td>The Nigerian National Petroleum Corporation (N...</td>\n",
       "      <td>business</td>\n",
       "      <td>0</td>\n",
       "      <td>0</td>\n",
       "    </tr>\n",
       "    <tr>\n",
       "      <th>4683</th>\n",
       "      <td>Nigeria’s External Reserves Hit $37bn with $3....</td>\n",
       "      <td>Nigeria’s foreign reserves will get a timely b...</td>\n",
       "      <td>business</td>\n",
       "      <td>0</td>\n",
       "      <td>0</td>\n",
       "    </tr>\n",
       "    <tr>\n",
       "      <th>4684</th>\n",
       "      <td>Transcorp Hilton Wins Africa’s Leading Busines...</td>\n",
       "      <td>Transcorp Hilton Abuja has been honoured with ...</td>\n",
       "      <td>business</td>\n",
       "      <td>0</td>\n",
       "      <td>0</td>\n",
       "    </tr>\n",
       "    <tr>\n",
       "      <th>4685</th>\n",
       "      <td>IHS Towers to Become Largest African Company o...</td>\n",
       "      <td>An African operator of mobile phone masts, IHS...</td>\n",
       "      <td>business</td>\n",
       "      <td>0</td>\n",
       "      <td>0</td>\n",
       "    </tr>\n",
       "  </tbody>\n",
       "</table>\n",
       "<p>4686 rows × 5 columns</p>\n",
       "</div>"
      ],
      "text/plain": [
       "                                                  Title  \\\n",
       "0     Uefa Opens Proceedings against Barcelona, Juve...   \n",
       "1     Amazon Blames Inflation as It Increases Cost o...   \n",
       "2     Nigeria’s Parliament Passes Amended Electoral ...   \n",
       "3     Nigeria: Lagos Governor Tests Positive for Cov...   \n",
       "4     South Africa Calls For Calm as Electoral Refor...   \n",
       "...                                                 ...   \n",
       "4681  Uganda Drops Charges Against Nigerian Singers ...   \n",
       "4682                 NNPC Cuts Directors’ Fees by 60.2%   \n",
       "4683  Nigeria’s External Reserves Hit $37bn with $3....   \n",
       "4684  Transcorp Hilton Wins Africa’s Leading Busines...   \n",
       "4685  IHS Towers to Become Largest African Company o...   \n",
       "\n",
       "                                                Excerpt       Category  \\\n",
       "0     Uefa has opened disciplinary proceedings again...         sports   \n",
       "1     The increases are steeper than the 17 percent ...       business   \n",
       "2     Nigeria's Senate on Tuesday passed the harmoni...       politics   \n",
       "3     The Lagos State Governor, Mr. Babajide Sanwo-O...         health   \n",
       "4     South Africa has raised concerns about the det...       politics   \n",
       "...                                                 ...            ...   \n",
       "4681  Nigerian singers Omah Lay and Tems are set to ...  entertainment   \n",
       "4682  The Nigerian National Petroleum Corporation (N...       business   \n",
       "4683  Nigeria’s foreign reserves will get a timely b...       business   \n",
       "4684  Transcorp Hilton Abuja has been honoured with ...       business   \n",
       "4685  An African operator of mobile phone masts, IHS...       business   \n",
       "\n",
       "      model_pred  model_conf  \n",
       "0              0           0  \n",
       "1              0           0  \n",
       "2              0           0  \n",
       "3              0           0  \n",
       "4              0           0  \n",
       "...          ...         ...  \n",
       "4681           0           0  \n",
       "4682           0           0  \n",
       "4683           0           0  \n",
       "4684           0           0  \n",
       "4685           0           0  \n",
       "\n",
       "[4686 rows x 5 columns]"
      ]
     },
     "execution_count": 48,
     "metadata": {},
     "output_type": "execute_result"
    }
   ],
   "source": [
    "df"
   ]
  },
  {
   "cell_type": "code",
   "execution_count": 56,
   "id": "653b4dfe",
   "metadata": {
    "hidden": true
   },
   "outputs": [
    {
     "data": {
      "application/vnd.jupyter.widget-view+json": {
       "model_id": "345ab476da2b4c6cad8c6e132c625fb0",
       "version_major": 2,
       "version_minor": 0
      },
      "text/plain": [
       "  0%|          | 0/4686 [00:00<?, ?it/s]"
      ]
     },
     "metadata": {},
     "output_type": "display_data"
    }
   ],
   "source": [
    "# Running the model on our dataset to test it's accuracy \n",
    "\n",
    "for i, out in enumerate(tqdm(pipe(KeyDataset(dataset, 'Excerpt')))):\n",
    "\n",
    "    df.loc[i, 'model_pred'] = out['label']\n",
    "    df.loc[i, 'model_conf'] = out['score']\n"
   ]
  },
  {
   "cell_type": "code",
   "execution_count": 58,
   "id": "3708d5df",
   "metadata": {
    "hidden": true
   },
   "outputs": [
    {
     "data": {
      "text/plain": [
       "World            2202\n",
       "Sports           1052\n",
       "Technology        665\n",
       "Entertainment     255\n",
       "Science           243\n",
       "Politics          184\n",
       "Automobile         85\n",
       "Name: model_pred, dtype: int64"
      ]
     },
     "execution_count": 58,
     "metadata": {},
     "output_type": "execute_result"
    }
   ],
   "source": [
    "df['model_pred'].value_counts()"
   ]
  },
  {
   "cell_type": "code",
   "execution_count": 59,
   "id": "77190f16",
   "metadata": {
    "hidden": true
   },
   "outputs": [],
   "source": [
    "df['model_pred'] = df['model_pred'].str.lower()"
   ]
  },
  {
   "cell_type": "code",
   "execution_count": 62,
   "id": "d5b4974e",
   "metadata": {
    "hidden": true
   },
   "outputs": [
    {
     "data": {
      "text/html": [
       "<div>\n",
       "<style scoped>\n",
       "    .dataframe tbody tr th:only-of-type {\n",
       "        vertical-align: middle;\n",
       "    }\n",
       "\n",
       "    .dataframe tbody tr th {\n",
       "        vertical-align: top;\n",
       "    }\n",
       "\n",
       "    .dataframe thead th {\n",
       "        text-align: right;\n",
       "    }\n",
       "</style>\n",
       "<table border=\"1\" class=\"dataframe\">\n",
       "  <thead>\n",
       "    <tr style=\"text-align: right;\">\n",
       "      <th></th>\n",
       "      <th>Title</th>\n",
       "      <th>Excerpt</th>\n",
       "      <th>Category</th>\n",
       "      <th>model_pred</th>\n",
       "      <th>model_conf</th>\n",
       "    </tr>\n",
       "  </thead>\n",
       "  <tbody>\n",
       "    <tr>\n",
       "      <th>0</th>\n",
       "      <td>Uefa Opens Proceedings against Barcelona, Juve...</td>\n",
       "      <td>Uefa has opened disciplinary proceedings again...</td>\n",
       "      <td>sports</td>\n",
       "      <td>sports</td>\n",
       "      <td>0.985748</td>\n",
       "    </tr>\n",
       "    <tr>\n",
       "      <th>1</th>\n",
       "      <td>Amazon Blames Inflation as It Increases Cost o...</td>\n",
       "      <td>The increases are steeper than the 17 percent ...</td>\n",
       "      <td>business</td>\n",
       "      <td>world</td>\n",
       "      <td>0.308457</td>\n",
       "    </tr>\n",
       "    <tr>\n",
       "      <th>2</th>\n",
       "      <td>Nigeria’s Parliament Passes Amended Electoral ...</td>\n",
       "      <td>Nigeria's Senate on Tuesday passed the harmoni...</td>\n",
       "      <td>politics</td>\n",
       "      <td>world</td>\n",
       "      <td>0.993005</td>\n",
       "    </tr>\n",
       "    <tr>\n",
       "      <th>3</th>\n",
       "      <td>Nigeria: Lagos Governor Tests Positive for Cov...</td>\n",
       "      <td>The Lagos State Governor, Mr. Babajide Sanwo-O...</td>\n",
       "      <td>health</td>\n",
       "      <td>world</td>\n",
       "      <td>0.942480</td>\n",
       "    </tr>\n",
       "    <tr>\n",
       "      <th>4</th>\n",
       "      <td>South Africa Calls For Calm as Electoral Refor...</td>\n",
       "      <td>South Africa has raised concerns about the det...</td>\n",
       "      <td>politics</td>\n",
       "      <td>world</td>\n",
       "      <td>0.995398</td>\n",
       "    </tr>\n",
       "    <tr>\n",
       "      <th>...</th>\n",
       "      <td>...</td>\n",
       "      <td>...</td>\n",
       "      <td>...</td>\n",
       "      <td>...</td>\n",
       "      <td>...</td>\n",
       "    </tr>\n",
       "    <tr>\n",
       "      <th>4681</th>\n",
       "      <td>Uganda Drops Charges Against Nigerian Singers ...</td>\n",
       "      <td>Nigerian singers Omah Lay and Tems are set to ...</td>\n",
       "      <td>entertainment</td>\n",
       "      <td>world</td>\n",
       "      <td>0.837737</td>\n",
       "    </tr>\n",
       "    <tr>\n",
       "      <th>4682</th>\n",
       "      <td>NNPC Cuts Directors’ Fees by 60.2%</td>\n",
       "      <td>The Nigerian National Petroleum Corporation (N...</td>\n",
       "      <td>business</td>\n",
       "      <td>world</td>\n",
       "      <td>0.961642</td>\n",
       "    </tr>\n",
       "    <tr>\n",
       "      <th>4683</th>\n",
       "      <td>Nigeria’s External Reserves Hit $37bn with $3....</td>\n",
       "      <td>Nigeria’s foreign reserves will get a timely b...</td>\n",
       "      <td>business</td>\n",
       "      <td>world</td>\n",
       "      <td>0.995204</td>\n",
       "    </tr>\n",
       "    <tr>\n",
       "      <th>4684</th>\n",
       "      <td>Transcorp Hilton Wins Africa’s Leading Busines...</td>\n",
       "      <td>Transcorp Hilton Abuja has been honoured with ...</td>\n",
       "      <td>business</td>\n",
       "      <td>world</td>\n",
       "      <td>0.497230</td>\n",
       "    </tr>\n",
       "    <tr>\n",
       "      <th>4685</th>\n",
       "      <td>IHS Towers to Become Largest African Company o...</td>\n",
       "      <td>An African operator of mobile phone masts, IHS...</td>\n",
       "      <td>business</td>\n",
       "      <td>technology</td>\n",
       "      <td>0.989657</td>\n",
       "    </tr>\n",
       "  </tbody>\n",
       "</table>\n",
       "<p>4686 rows × 5 columns</p>\n",
       "</div>"
      ],
      "text/plain": [
       "                                                  Title  \\\n",
       "0     Uefa Opens Proceedings against Barcelona, Juve...   \n",
       "1     Amazon Blames Inflation as It Increases Cost o...   \n",
       "2     Nigeria’s Parliament Passes Amended Electoral ...   \n",
       "3     Nigeria: Lagos Governor Tests Positive for Cov...   \n",
       "4     South Africa Calls For Calm as Electoral Refor...   \n",
       "...                                                 ...   \n",
       "4681  Uganda Drops Charges Against Nigerian Singers ...   \n",
       "4682                 NNPC Cuts Directors’ Fees by 60.2%   \n",
       "4683  Nigeria’s External Reserves Hit $37bn with $3....   \n",
       "4684  Transcorp Hilton Wins Africa’s Leading Busines...   \n",
       "4685  IHS Towers to Become Largest African Company o...   \n",
       "\n",
       "                                                Excerpt       Category  \\\n",
       "0     Uefa has opened disciplinary proceedings again...         sports   \n",
       "1     The increases are steeper than the 17 percent ...       business   \n",
       "2     Nigeria's Senate on Tuesday passed the harmoni...       politics   \n",
       "3     The Lagos State Governor, Mr. Babajide Sanwo-O...         health   \n",
       "4     South Africa has raised concerns about the det...       politics   \n",
       "...                                                 ...            ...   \n",
       "4681  Nigerian singers Omah Lay and Tems are set to ...  entertainment   \n",
       "4682  The Nigerian National Petroleum Corporation (N...       business   \n",
       "4683  Nigeria’s foreign reserves will get a timely b...       business   \n",
       "4684  Transcorp Hilton Abuja has been honoured with ...       business   \n",
       "4685  An African operator of mobile phone masts, IHS...       business   \n",
       "\n",
       "      model_pred  model_conf  \n",
       "0         sports    0.985748  \n",
       "1          world    0.308457  \n",
       "2          world    0.993005  \n",
       "3          world    0.942480  \n",
       "4          world    0.995398  \n",
       "...          ...         ...  \n",
       "4681       world    0.837737  \n",
       "4682       world    0.961642  \n",
       "4683       world    0.995204  \n",
       "4684       world    0.497230  \n",
       "4685  technology    0.989657  \n",
       "\n",
       "[4686 rows x 5 columns]"
      ]
     },
     "execution_count": 62,
     "metadata": {},
     "output_type": "execute_result"
    }
   ],
   "source": [
    "df"
   ]
  },
  {
   "cell_type": "code",
   "execution_count": 63,
   "id": "f78d6319",
   "metadata": {
    "hidden": true
   },
   "outputs": [],
   "source": [
    "a = df['Category'] == 'politics' \n",
    "b = df['model_pred'] == 'politics'"
   ]
  },
  {
   "cell_type": "code",
   "execution_count": 64,
   "id": "af9f6324",
   "metadata": {
    "hidden": true
   },
   "outputs": [],
   "source": [
    "politics_df = df[a|b]"
   ]
  },
  {
   "cell_type": "code",
   "execution_count": 69,
   "id": "e4c96220",
   "metadata": {
    "hidden": true
   },
   "outputs": [
    {
     "data": {
      "text/plain": [
       "<sklearn.metrics._plot.confusion_matrix.ConfusionMatrixDisplay at 0x7ff5467cd570>"
      ]
     },
     "execution_count": 69,
     "metadata": {},
     "output_type": "execute_result"
    },
    {
     "data": {
      "image/png": "[encoded data removed]",
      "text/plain": [
       "<Figure size 640x480 with 2 Axes>"
      ]
     },
     "metadata": {},
     "output_type": "display_data"
    }
   ],
   "source": [
    "from sklearn.metrics import confusion_matrix, ConfusionMatrixDisplay\n",
    "\n",
    "disp = ConfusionMatrixDisplay.from_predictions(politics_df['Category'], politics_df['model_pred'])\n",
    "disp"
   ]
  },
  {
   "cell_type": "code",
   "execution_count": 71,
   "id": "232baf53",
   "metadata": {
    "hidden": true
   },
   "outputs": [
    {
     "name": "stdout",
     "output_type": "stream",
     "text": [
      "article_classification.ipynb  data  README.md\r\n"
     ]
    }
   ],
   "source": [
    "!ls"
   ]
  },
  {
   "cell_type": "markdown",
   "id": "4a04c522",
   "metadata": {},
   "source": [
    "# Saving models first attempt"
   ]
  },
  {
   "cell_type": "code",
   "execution_count": 70,
   "id": "1c0f3394",
   "metadata": {},
   "outputs": [
    {
     "data": {
      "text/html": [
       "<div>\n",
       "<style scoped>\n",
       "    .dataframe tbody tr th:only-of-type {\n",
       "        vertical-align: middle;\n",
       "    }\n",
       "\n",
       "    .dataframe tbody tr th {\n",
       "        vertical-align: top;\n",
       "    }\n",
       "\n",
       "    .dataframe thead th {\n",
       "        text-align: right;\n",
       "    }\n",
       "</style>\n",
       "<table border=\"1\" class=\"dataframe\">\n",
       "  <thead>\n",
       "    <tr style=\"text-align: right;\">\n",
       "      <th></th>\n",
       "      <th>Title</th>\n",
       "      <th>Excerpt</th>\n",
       "      <th>Category</th>\n",
       "      <th>model_pred</th>\n",
       "      <th>model_conf</th>\n",
       "    </tr>\n",
       "  </thead>\n",
       "  <tbody>\n",
       "    <tr>\n",
       "      <th>0</th>\n",
       "      <td>Uefa Opens Proceedings against Barcelona, Juve...</td>\n",
       "      <td>Uefa has opened disciplinary proceedings again...</td>\n",
       "      <td>sports</td>\n",
       "      <td>sports</td>\n",
       "      <td>0.985748</td>\n",
       "    </tr>\n",
       "    <tr>\n",
       "      <th>1</th>\n",
       "      <td>Amazon Blames Inflation as It Increases Cost o...</td>\n",
       "      <td>The increases are steeper than the 17 percent ...</td>\n",
       "      <td>business</td>\n",
       "      <td>world</td>\n",
       "      <td>0.308457</td>\n",
       "    </tr>\n",
       "    <tr>\n",
       "      <th>2</th>\n",
       "      <td>Nigeria’s Parliament Passes Amended Electoral ...</td>\n",
       "      <td>Nigeria's Senate on Tuesday passed the harmoni...</td>\n",
       "      <td>politics</td>\n",
       "      <td>world</td>\n",
       "      <td>0.993005</td>\n",
       "    </tr>\n",
       "    <tr>\n",
       "      <th>3</th>\n",
       "      <td>Nigeria: Lagos Governor Tests Positive for Cov...</td>\n",
       "      <td>The Lagos State Governor, Mr. Babajide Sanwo-O...</td>\n",
       "      <td>health</td>\n",
       "      <td>world</td>\n",
       "      <td>0.942480</td>\n",
       "    </tr>\n",
       "    <tr>\n",
       "      <th>4</th>\n",
       "      <td>South Africa Calls For Calm as Electoral Refor...</td>\n",
       "      <td>South Africa has raised concerns about the det...</td>\n",
       "      <td>politics</td>\n",
       "      <td>world</td>\n",
       "      <td>0.995398</td>\n",
       "    </tr>\n",
       "    <tr>\n",
       "      <th>...</th>\n",
       "      <td>...</td>\n",
       "      <td>...</td>\n",
       "      <td>...</td>\n",
       "      <td>...</td>\n",
       "      <td>...</td>\n",
       "    </tr>\n",
       "    <tr>\n",
       "      <th>4681</th>\n",
       "      <td>Uganda Drops Charges Against Nigerian Singers ...</td>\n",
       "      <td>Nigerian singers Omah Lay and Tems are set to ...</td>\n",
       "      <td>entertainment</td>\n",
       "      <td>world</td>\n",
       "      <td>0.837737</td>\n",
       "    </tr>\n",
       "    <tr>\n",
       "      <th>4682</th>\n",
       "      <td>NNPC Cuts Directors’ Fees by 60.2%</td>\n",
       "      <td>The Nigerian National Petroleum Corporation (N...</td>\n",
       "      <td>business</td>\n",
       "      <td>world</td>\n",
       "      <td>0.961642</td>\n",
       "    </tr>\n",
       "    <tr>\n",
       "      <th>4683</th>\n",
       "      <td>Nigeria’s External Reserves Hit $37bn with $3....</td>\n",
       "      <td>Nigeria’s foreign reserves will get a timely b...</td>\n",
       "      <td>business</td>\n",
       "      <td>world</td>\n",
       "      <td>0.995204</td>\n",
       "    </tr>\n",
       "    <tr>\n",
       "      <th>4684</th>\n",
       "      <td>Transcorp Hilton Wins Africa’s Leading Busines...</td>\n",
       "      <td>Transcorp Hilton Abuja has been honoured with ...</td>\n",
       "      <td>business</td>\n",
       "      <td>world</td>\n",
       "      <td>0.497230</td>\n",
       "    </tr>\n",
       "    <tr>\n",
       "      <th>4685</th>\n",
       "      <td>IHS Towers to Become Largest African Company o...</td>\n",
       "      <td>An African operator of mobile phone masts, IHS...</td>\n",
       "      <td>business</td>\n",
       "      <td>technology</td>\n",
       "      <td>0.989657</td>\n",
       "    </tr>\n",
       "  </tbody>\n",
       "</table>\n",
       "<p>4686 rows × 5 columns</p>\n",
       "</div>"
      ],
      "text/plain": [
       "                                                  Title  \\\n",
       "0     Uefa Opens Proceedings against Barcelona, Juve...   \n",
       "1     Amazon Blames Inflation as It Increases Cost o...   \n",
       "2     Nigeria’s Parliament Passes Amended Electoral ...   \n",
       "3     Nigeria: Lagos Governor Tests Positive for Cov...   \n",
       "4     South Africa Calls For Calm as Electoral Refor...   \n",
       "...                                                 ...   \n",
       "4681  Uganda Drops Charges Against Nigerian Singers ...   \n",
       "4682                 NNPC Cuts Directors’ Fees by 60.2%   \n",
       "4683  Nigeria’s External Reserves Hit $37bn with $3....   \n",
       "4684  Transcorp Hilton Wins Africa’s Leading Busines...   \n",
       "4685  IHS Towers to Become Largest African Company o...   \n",
       "\n",
       "                                                Excerpt       Category  \\\n",
       "0     Uefa has opened disciplinary proceedings again...         sports   \n",
       "1     The increases are steeper than the 17 percent ...       business   \n",
       "2     Nigeria's Senate on Tuesday passed the harmoni...       politics   \n",
       "3     The Lagos State Governor, Mr. Babajide Sanwo-O...         health   \n",
       "4     South Africa has raised concerns about the det...       politics   \n",
       "...                                                 ...            ...   \n",
       "4681  Nigerian singers Omah Lay and Tems are set to ...  entertainment   \n",
       "4682  The Nigerian National Petroleum Corporation (N...       business   \n",
       "4683  Nigeria’s foreign reserves will get a timely b...       business   \n",
       "4684  Transcorp Hilton Abuja has been honoured with ...       business   \n",
       "4685  An African operator of mobile phone masts, IHS...       business   \n",
       "\n",
       "      model_pred  model_conf  \n",
       "0         sports    0.985748  \n",
       "1          world    0.308457  \n",
       "2          world    0.993005  \n",
       "3          world    0.942480  \n",
       "4          world    0.995398  \n",
       "...          ...         ...  \n",
       "4681       world    0.837737  \n",
       "4682       world    0.961642  \n",
       "4683       world    0.995204  \n",
       "4684       world    0.497230  \n",
       "4685  technology    0.989657  \n",
       "\n",
       "[4686 rows x 5 columns]"
      ]
     },
     "execution_count": 70,
     "metadata": {},
     "output_type": "execute_result"
    }
   ],
   "source": [
    "df.to_csv('data/modelbbcnc)"
   ]
  }
 ],
 "metadata": {
  "kernelspec": {
   "display_name": "Python 3 (ipykernel)",
   "language": "python",
   "name": "python3"
  },
  "language_info": {
   "codemirror_mode": {
    "name": "ipython",
    "version": 3
   },
   "file_extension": ".py",
   "mimetype": "text/x-python",
   "name": "python",
   "nbconvert_exporter": "python",
   "pygments_lexer": "ipython3",
   "version": "3.10.6"
  },
  "toc": {
   "base_numbering": 1,
   "nav_menu": {},
   "number_sections": true,
   "sideBar": true,
   "skip_h1_title": false,
   "title_cell": "Table of Contents",
   "title_sidebar": "Contents",
   "toc_cell": false,
   "toc_position": {},
   "toc_section_display": true,
   "toc_window_display": false
  }
 },
 "nbformat": 4,
 "nbformat_minor": 5
}
